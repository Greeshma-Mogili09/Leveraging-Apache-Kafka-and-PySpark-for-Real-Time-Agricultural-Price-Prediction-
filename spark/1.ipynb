{
 "cells": [
  {
   "cell_type": "code",
   "execution_count": 1,
   "id": "fd472a3f",
   "metadata": {},
   "outputs": [
    {
     "name": "stdout",
     "output_type": "stream",
     "text": [
      "['Month_sin', 'Month_cos', 'Y2010', 'Y2011', 'Y2012', 'Y2013', 'Y2014', 'Y2015', 'Y2016', 'Y2017', 'Y2018', 'Y2019', 'Y2020', 'Y2021', 'Y2022', 'Area_Albania', 'Area_Argentina', 'Area_Armenia', 'Area_Austria', 'Area_Bahrain', 'Area_Bangladesh', 'Area_Belarus', 'Area_Belgium', 'Area_Benin', 'Area_Bhutan', 'Area_Bosnia and Herzegovina', 'Area_Brunei Darussalam', 'Area_Bulgaria', 'Area_Cabo Verde', 'Area_Canada', 'Area_Chad', 'Area_China, mainland', 'Area_Colombia', 'Area_Costa Rica', 'Area_Croatia', 'Area_Czechia', \"Area_Côte d'Ivoire\", 'Area_Ecuador', 'Area_Estonia', 'Area_Finland', 'Area_France', 'Area_Gambia', 'Area_Georgia', 'Area_Germany', 'Area_Grenada', 'Area_Guyana', 'Area_Hungary', 'Area_Israel', 'Area_Italy', 'Area_Japan', 'Area_Jordan', 'Area_Kazakhstan', 'Area_Kuwait', 'Area_Kyrgyzstan', 'Area_Latvia', 'Area_Lithuania', 'Area_Luxembourg', 'Area_Malaysia', 'Area_Mali', 'Area_Malta', 'Area_Mauritius', 'Area_Mongolia', 'Area_Namibia', 'Area_Netherlands (Kingdom of the)', 'Area_Nicaragua', 'Area_North Macedonia', 'Area_Pakistan', 'Area_Palestine', 'Area_Panama', 'Area_Paraguay', 'Area_Peru', 'Area_Philippines', 'Area_Poland', 'Area_Portugal', 'Area_Qatar', 'Area_Romania', 'Area_Russian Federation', 'Area_Rwanda', 'Area_Saint Kitts and Nevis', 'Area_Saint Lucia', 'Area_Saint Vincent and the Grenadines', 'Area_Samoa', 'Area_Saudi Arabia', 'Area_Senegal', 'Area_Serbia', 'Area_Slovakia', 'Area_Slovenia', 'Area_Solomon Islands', 'Area_South Africa', 'Area_Spain', 'Area_Sri Lanka', 'Area_Sweden', 'Area_Thailand', 'Area_Trinidad and Tobago', 'Area_Türkiye', 'Area_Ukraine', 'Area_United Kingdom of Great Britain and Northern Ireland', 'Area_United States of America', 'Area_Yemen', 'Area_Zambia', 'Area_Zimbabwe', 'Item_Abaca, manila hemp, raw', 'Item_Almonds, in shell', 'Item_Anise, badian, coriander, cumin, caraway, fennel and juniper berries, raw', 'Item_Apples', 'Item_Apricots', 'Item_Areca nuts', 'Item_Artichokes', 'Item_Asparagus', 'Item_Avocados', 'Item_Bananas', 'Item_Bananas cavendish', 'Item_Barley', 'Item_Beans, dry', 'Item_Beeswax', 'Item_Blueberries', 'Item_Broad beans and horse beans, dry', 'Item_Broad beans and horse beans, green', 'Item_Buckwheat', 'Item_Cabbages', 'Item_Canary seed', 'Item_Cantaloupes and other melons', 'Item_Carrots and turnips', 'Item_Cashew nuts, in shell', 'Item_Cassava, fresh', 'Item_Cauliflowers and broccoli', 'Item_Cherries', 'Item_Chestnuts, in shell', 'Item_Chick peas, dry', 'Item_Chicory roots', 'Item_Chillies and peppers, dry (Capsicum spp., Pimenta spp.), raw', 'Item_Chillies and peppers, green (Capsicum spp. and Pimenta spp.)', 'Item_Cinnamon and cinnamon-tree flowers, raw', 'Item_Cloves (whole stems), raw', 'Item_Cocoa beans', 'Item_Coconuts, in shell', 'Item_Coffee, green', 'Item_Cooking bananas', 'Item_Cotton lint, ginned', 'Item_Cotton seed', 'Item_Cow peas, dry', 'Item_Cranberries', 'Item_Cucumbers and gherkins', 'Item_Currants', 'Item_Dates', 'Item_Edible roots and tubers with high starch or inulin content, n.e.c., fresh', 'Item_Eggplants (aubergines)', 'Item_Eggs from other birds in shell, fresh, n.e.c.', 'Item_Figs', 'Item_Flax, processed but not spun', 'Item_Fonio', 'Item_Ginger, raw', 'Item_Gooseberries', 'Item_Grapes', 'Item_Green corn (maize)', 'Item_Green garlic', 'Item_Groundnuts, excluding shelled', 'Item_Hazelnuts, in shell', 'Item_Hen eggs in shell, fresh', 'Item_Hop cones', 'Item_Horse meat, fresh or chilled (biological)', 'Item_Karite nuts (sheanuts)', 'Item_Kiwi fruit', 'Item_Leeks and other alliaceous vegetables', 'Item_Lemons and limes', 'Item_Lentils, dry', 'Item_Lettuce and chicory', 'Item_Linseed', 'Item_Locust beans (carobs)', 'Item_Lupins', 'Item_Maize (corn)', 'Item_Mangoes, guavas and mangosteens', 'Item_Meat of buffalo, fresh or chilled (biological)', 'Item_Meat of camels, fresh or chilled (biological)', 'Item_Meat of cattle with the bone, fresh or chilled (biological)', 'Item_Meat of chickens, fresh or chilled (biological)', 'Item_Meat of ducks, fresh or chilled (biological)', 'Item_Meat of geese, fresh or chilled (biological)', 'Item_Meat of goat, fresh or chilled (biological)', 'Item_Meat of pig with the bone, fresh or chilled (biological)', 'Item_Meat of rabbits and hares, fresh or chilled (biological)', 'Item_Meat of sheep, fresh or chilled (biological)', 'Item_Meat of turkeys, fresh or chilled (biological)', 'Item_Millet', 'Item_Mushrooms and truffles', 'Item_Mustard seed', 'Item_Natural honey', 'Item_Natural rubber in primary forms', 'Item_Nutmeg, mace, cardamoms, raw', 'Item_Oats', 'Item_Oil palm fruit', 'Item_Okra', 'Item_Olives', 'Item_Onions and shallots, dry (excluding dehydrated)', 'Item_Onions and shallots, green', 'Item_Oranges', 'Item_Other bananas (excluding cavendish and cooking bananas)', 'Item_Other beans, green', 'Item_Other berries and fruits of the genus vaccinium n.e.c.', 'Item_Other citrus fruit, n.e.c.', 'Item_Other fruits, n.e.c.', 'Item_Other nuts (excluding wild edible nuts and groundnuts), in shell, n.e.c.', 'Item_Other oil seeds, n.e.c.', 'Item_Other pome fruits', 'Item_Other pulses n.e.c.', 'Item_Other stimulant, spice and aromatic crops, n.e.c.', 'Item_Other stone fruits', 'Item_Other tropical fruits, n.e.c.', 'Item_Other vegetables, fresh n.e.c.', 'Item_Palm kernels', 'Item_Palm oil', 'Item_Papayas', 'Item_Peaches and nectarines', 'Item_Pears', 'Item_Peas, dry', 'Item_Peas, green', 'Item_Pepper (Piper spp.), raw', 'Item_Peppermint, spearmint', 'Item_Persimmons', 'Item_Pigeon peas, dry', 'Item_Pineapples', 'Item_Pistachios, in shell', 'Item_Plantains', 'Item_Plums and sloes', 'Item_Pomelos and grapefruits', 'Item_Poppy seed', 'Item_Potatoes', 'Item_Pumpkins, squash and gourds', 'Item_Quinces', 'Item_Quinoa', 'Item_Rape or colza seed', 'Item_Raspberries', 'Item_Raw milk of buffalo', 'Item_Raw milk of camel', 'Item_Raw milk of cattle', 'Item_Raw milk of goats', 'Item_Raw milk of sheep', 'Item_Rice', 'Item_Rye', 'Item_Safflower seed', 'Item_Seed cotton, unginned', 'Item_Sesame seed', 'Item_Shorn wool, greasy, including fleece-washed shorn wool', 'Item_Silk-worm cocoons suitable for reeling', 'Item_Sorghum', 'Item_Sour cherries', 'Item_Soya beans', 'Item_Spinach', 'Item_Strawberries', 'Item_String beans', 'Item_Sugar beet', 'Item_Sugar cane', 'Item_Sunflower seed', 'Item_Sweet potatoes', 'Item_Tangerines, mandarins, clementines', 'Item_Taro', 'Item_Tea leaves', 'Item_Tomatoes', 'Item_Triticale', 'Item_Unmanufactured tobacco', 'Item_Vetches', 'Item_Walnuts, in shell', 'Item_Watermelons', 'Item_Wheat', 'Item_Yams', 'Item_Yautia', 'Months_April', 'Months_August', 'Months_December', 'Months_February', 'Months_January', 'Months_July', 'Months_June', 'Months_March', 'Months_May', 'Months_November', 'Months_October', 'Months_September']\n"
     ]
    }
   ],
   "source": [
    "import pickle\n",
    "\n",
    "with open(r\"C:\\Users\\mgree\\Downloads\\Bigdata_project\\real_time_prediction\\spark\\models\\train_cols.pkl\", \"rb\") as f:\n",
    "    train_cols = pickle.load(f)\n",
    "print(train_cols)"
   ]
  },
  {
   "cell_type": "code",
   "execution_count": 5,
   "id": "849d14fc",
   "metadata": {},
   "outputs": [
    {
     "name": "stdout",
     "output_type": "stream",
     "text": [
      "StandardScaler()\n"
     ]
    },
    {
     "name": "stderr",
     "output_type": "stream",
     "text": [
      "c:\\Users\\mgree\\AppData\\Local\\Programs\\Python\\Python310\\lib\\site-packages\\sklearn\\base.py:376: InconsistentVersionWarning: Trying to unpickle estimator StandardScaler from version 1.6.1 when using version 1.5.2. This might lead to breaking code or invalid results. Use at your own risk. For more info please refer to:\n",
      "https://scikit-learn.org/stable/model_persistence.html#security-maintainability-limitations\n",
      "  warnings.warn(\n"
     ]
    }
   ],
   "source": [
    "import pickle\n",
    "\n",
    "with open(r\"C:\\Users\\mgree\\Downloads\\Bigdata_project\\real_time_prediction\\spark\\models\\crop_price_scaler.pkl\", \"rb\") as f:\n",
    "    train_cols = pickle.load(f)\n",
    "print(train_cols)"
   ]
  },
  {
   "cell_type": "code",
   "execution_count": 1,
   "id": "150bd16b",
   "metadata": {},
   "outputs": [
    {
     "ename": "FileNotFoundError",
     "evalue": "[Errno 2] No such file or directory: 'C:\\\\Users\\\\mgree\\\\Downloads\\\\Bigdata_project\\\\real_time_prediction\\\\models\\\\train_cols.pkl'",
     "output_type": "error",
     "traceback": [
      "\u001b[1;31m---------------------------------------------------------------------------\u001b[0m",
      "\u001b[1;31mFileNotFoundError\u001b[0m                         Traceback (most recent call last)",
      "Cell \u001b[1;32mIn[1], line 3\u001b[0m\n\u001b[0;32m      1\u001b[0m \u001b[38;5;28;01mimport\u001b[39;00m\u001b[38;5;250m \u001b[39m\u001b[38;5;21;01mpickle\u001b[39;00m\n\u001b[1;32m----> 3\u001b[0m \u001b[38;5;28;01mwith\u001b[39;00m \u001b[38;5;28;43mopen\u001b[39;49m\u001b[43m(\u001b[49m\u001b[38;5;124;43mr\u001b[39;49m\u001b[38;5;124;43m\"\u001b[39;49m\u001b[38;5;124;43mC:\u001b[39;49m\u001b[38;5;124;43m\\\u001b[39;49m\u001b[38;5;124;43mUsers\u001b[39;49m\u001b[38;5;124;43m\\\u001b[39;49m\u001b[38;5;124;43mmgree\u001b[39;49m\u001b[38;5;124;43m\\\u001b[39;49m\u001b[38;5;124;43mDownloads\u001b[39;49m\u001b[38;5;124;43m\\\u001b[39;49m\u001b[38;5;124;43mBigdata_project\u001b[39;49m\u001b[38;5;124;43m\\\u001b[39;49m\u001b[38;5;124;43mreal_time_prediction\u001b[39;49m\u001b[38;5;124;43m\\\u001b[39;49m\u001b[38;5;124;43mmodels\u001b[39;49m\u001b[38;5;124;43m\\\u001b[39;49m\u001b[38;5;124;43mtrain_cols.pkl\u001b[39;49m\u001b[38;5;124;43m\"\u001b[39;49m\u001b[43m,\u001b[49m\u001b[43m \u001b[49m\u001b[38;5;124;43m\"\u001b[39;49m\u001b[38;5;124;43mrb\u001b[39;49m\u001b[38;5;124;43m\"\u001b[39;49m\u001b[43m)\u001b[49m \u001b[38;5;28;01mas\u001b[39;00m f:\n\u001b[0;32m      4\u001b[0m     train_cols \u001b[38;5;241m=\u001b[39m pickle\u001b[38;5;241m.\u001b[39mload(f)\n\u001b[0;32m      5\u001b[0m \u001b[38;5;28mprint\u001b[39m(train_cols)\n",
      "File \u001b[1;32m~\\AppData\\Roaming\\Python\\Python310\\site-packages\\IPython\\core\\interactiveshell.py:324\u001b[0m, in \u001b[0;36m_modified_open\u001b[1;34m(file, *args, **kwargs)\u001b[0m\n\u001b[0;32m    317\u001b[0m \u001b[38;5;28;01mif\u001b[39;00m file \u001b[38;5;129;01min\u001b[39;00m {\u001b[38;5;241m0\u001b[39m, \u001b[38;5;241m1\u001b[39m, \u001b[38;5;241m2\u001b[39m}:\n\u001b[0;32m    318\u001b[0m     \u001b[38;5;28;01mraise\u001b[39;00m \u001b[38;5;167;01mValueError\u001b[39;00m(\n\u001b[0;32m    319\u001b[0m         \u001b[38;5;124mf\u001b[39m\u001b[38;5;124m\"\u001b[39m\u001b[38;5;124mIPython won\u001b[39m\u001b[38;5;124m'\u001b[39m\u001b[38;5;124mt let you open fd=\u001b[39m\u001b[38;5;132;01m{\u001b[39;00mfile\u001b[38;5;132;01m}\u001b[39;00m\u001b[38;5;124m by default \u001b[39m\u001b[38;5;124m\"\u001b[39m\n\u001b[0;32m    320\u001b[0m         \u001b[38;5;124m\"\u001b[39m\u001b[38;5;124mas it is likely to crash IPython. If you know what you are doing, \u001b[39m\u001b[38;5;124m\"\u001b[39m\n\u001b[0;32m    321\u001b[0m         \u001b[38;5;124m\"\u001b[39m\u001b[38;5;124myou can use builtins\u001b[39m\u001b[38;5;124m'\u001b[39m\u001b[38;5;124m open.\u001b[39m\u001b[38;5;124m\"\u001b[39m\n\u001b[0;32m    322\u001b[0m     )\n\u001b[1;32m--> 324\u001b[0m \u001b[38;5;28;01mreturn\u001b[39;00m io_open(file, \u001b[38;5;241m*\u001b[39margs, \u001b[38;5;241m*\u001b[39m\u001b[38;5;241m*\u001b[39mkwargs)\n",
      "\u001b[1;31mFileNotFoundError\u001b[0m: [Errno 2] No such file or directory: 'C:\\\\Users\\\\mgree\\\\Downloads\\\\Bigdata_project\\\\real_time_prediction\\\\models\\\\train_cols.pkl'"
     ]
    }
   ],
   "source": [
    "import pickle\n",
    "\n",
    "with open(r\"C:\\Users\\mgree\\Downloads\\Bigdata_project\\real_time_prediction\\models\\train_cols.pkl\", \"rb\") as f:\n",
    "    train_cols = pickle.load(f)\n",
    "print(train_cols)"
   ]
  },
  {
   "cell_type": "code",
   "execution_count": 1,
   "id": "d7f58fec",
   "metadata": {},
   "outputs": [
    {
     "ename": "ModuleNotFoundError",
     "evalue": "No module named 'pyspark'",
     "output_type": "error",
     "traceback": [
      "\u001b[1;31m---------------------------------------------------------------------------\u001b[0m",
      "\u001b[1;31mModuleNotFoundError\u001b[0m                       Traceback (most recent call last)",
      "Cell \u001b[1;32mIn[1], line 2\u001b[0m\n\u001b[0;32m      1\u001b[0m \u001b[38;5;66;03m# test_spark.py\u001b[39;00m\n\u001b[1;32m----> 2\u001b[0m \u001b[38;5;28;01mfrom\u001b[39;00m \u001b[38;5;21;01mpyspark\u001b[39;00m\u001b[38;5;21;01m.\u001b[39;00m\u001b[38;5;21;01msql\u001b[39;00m \u001b[38;5;28;01mimport\u001b[39;00m SparkSession\n\u001b[0;32m      4\u001b[0m spark \u001b[38;5;241m=\u001b[39m SparkSession\u001b[38;5;241m.\u001b[39mbuilder \\\n\u001b[0;32m      5\u001b[0m     \u001b[38;5;241m.\u001b[39mappName(\u001b[38;5;124m\"\u001b[39m\u001b[38;5;124mTestSession\u001b[39m\u001b[38;5;124m\"\u001b[39m) \\\n\u001b[0;32m      6\u001b[0m     \u001b[38;5;241m.\u001b[39mmaster(\u001b[38;5;124m\"\u001b[39m\u001b[38;5;124mlocal[*]\u001b[39m\u001b[38;5;124m\"\u001b[39m) \\\n\u001b[0;32m      7\u001b[0m     \u001b[38;5;241m.\u001b[39mgetOrCreate()\n\u001b[0;32m      9\u001b[0m \u001b[38;5;28mprint\u001b[39m(\u001b[38;5;124m\"\u001b[39m\u001b[38;5;124mSpark session created:\u001b[39m\u001b[38;5;124m\"\u001b[39m, spark\u001b[38;5;241m.\u001b[39mversion)\n",
      "\u001b[1;31mModuleNotFoundError\u001b[0m: No module named 'pyspark'"
     ]
    }
   ],
   "source": [
    "# test_spark.py\n",
    "from pyspark.sql import SparkSession\n",
    "\n",
    "spark = SparkSession.builder \\\n",
    "    .appName(\"TestSession\") \\\n",
    "    .master(\"local[*]\") \\\n",
    "    .getOrCreate()\n",
    "\n",
    "print(\"Spark session created:\", spark.version)\n",
    "spark.stop()\n"
   ]
  }
 ],
 "metadata": {
  "kernelspec": {
   "display_name": "Python 3",
   "language": "python",
   "name": "python3"
  },
  "language_info": {
   "codemirror_mode": {
    "name": "ipython",
    "version": 3
   },
   "file_extension": ".py",
   "mimetype": "text/x-python",
   "name": "python",
   "nbconvert_exporter": "python",
   "pygments_lexer": "ipython3",
   "version": "3.10.11"
  }
 },
 "nbformat": 4,
 "nbformat_minor": 5
}
